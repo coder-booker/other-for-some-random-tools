{
 "cells": [
  {
   "cell_type": "code",
   "execution_count": null,
   "metadata": {},
   "outputs": [],
   "source": [
    "import cv2\n",
    "from ultralytics import YOLO"
   ]
  },
  {
   "cell_type": "code",
   "execution_count": null,
   "metadata": {},
   "outputs": [],
   "source": [
    "class YoloDetector:\n",
    "    def __init__(self, car_model_path, armor_model_path):\n",
    "        self.car_model = YOLO(car_model_path)\n",
    "        self.armor_model = YOLO(armor_model_path)\n",
    "\n",
    "    def car_detect(self, frame):\n",
    "        results = self.car_model(frame)\n",
    "        processed_frame = frame.copy()\n",
    "        processed_boxes = []\n",
    "        for result in results:\n",
    "            boxes = result.boxes\n",
    "            for box, cls, conf in zip(boxes.xywh, map(int, boxes.cls), boxes.conf): # YOLO gives the size of boxes, the type of the object the confidence and the ID\n",
    "                x, y, w, h = map(int, box)\n",
    "                processed_boxes.append(([x, y, w, h], cls, conf))\n",
    "                cv2.rectangle(processed_frame, (x-w//2, y-h//2), (x+w//2, y+h//2), (0, 255, 0), 1)\n",
    "                cv2.putText(processed_frame, f'car {conf:.2f}', (x-w//2, y-h//2+10), cv2.FONT_HERSHEY_SIMPLEX, 0.6, (36,255,12), 1)\n",
    "        cv2.imshow(\"car_detect\", processed_frame)\n",
    "        cv2.waitKey(0)\n",
    "        return processed_boxes\n",
    "\n",
    "    def armors_detect(self, armor_frames):\n",
    "        all_boxes = []\n",
    "        for armor_frame in armor_frames:\n",
    "            processed_boxes = []\n",
    "            results = self.armor_model(armor_frame)\n",
    "            for result in results:\n",
    "                if not len(result):\n",
    "                    continue\n",
    "                boxes = result.boxes\n",
    "                for box, cls, conf in zip(boxes.xywh, map(int, boxes.cls), boxes.conf): # YOLO gives the size of boxes, the type of the object the confidence and the ID\n",
    "                    x, y, w, h = map(int, box)\n",
    "                    processed_boxes.append(([x, y, w, h], cls, conf))\n",
    "\n",
    "                all_boxes.append(processed_boxes)\n",
    "\n",
    "        return all_boxes\n",
    "        \n",
    "    def car_2_armor(self, car_frame, boxes):\n",
    "        armor_frames = []\n",
    "        for box, cls, conf in boxes:\n",
    "            x, y, w, h = box\n",
    "            armor_frames.append(cv2.resize(car_frame[y-h//2:y+h//2, x-w//2:x+w//2], (w, h)))\n",
    "            # cv2.imshow(\"car_detect\", armor_frames[-1])\n",
    "            # cv2.waitKey(0)\n",
    "        \n",
    "        return armor_frames\n",
    "    \n",
    "    def draw(self, frame, car_boxes, armors_boxes):\n",
    "        for car_box, armors_box in zip(car_boxes, armors_boxes):\n",
    "            car_box, _, conf = car_box\n",
    "            x, y, w, h = car_box\n",
    "            cv2.rectangle(frame, (x-w//2, y-h//2), (x+w//2, y+h//2), (0, 255, 0), 1)\n",
    "            cv2.putText(frame, f'car {conf:.2f}', (x-w//2, y-h//2+10), cv2.FONT_HERSHEY_SIMPLEX, 0.6, (36,255,12), 1)\n",
    "            for box, cls, conf in armors_box:\n",
    "                ax, ay, aw, ah = map(int, box)\n",
    "                cv2.rectangle(frame, (x-w//2+ax-aw//2, y-h//2+ay-ah//2), (x-w//2+ax+aw//2, y-h//2+ay+ah//2), (0, 255, 0), 1)\n",
    "                cv2.putText(frame, f'{cls} {conf:.2f}', (x-w//2+ax-aw//2, y-h//2+ay-ah//2+10), cv2.FONT_HERSHEY_SIMPLEX, 0.6, (0,127,127), 1)\n",
    "\n",
    "\n"
   ]
  },
  {
   "cell_type": "code",
   "execution_count": null,
   "metadata": {},
   "outputs": [],
   "source": [
    "test_detector = YoloDetector(\"./car_best.pt\", \"./armor_best.pt\")\n",
    "test_frame = cv2.imread(\"./test_frame.jpg\")\n",
    "\n",
    "car_boxes = test_detector.car_detect(test_frame)\n",
    "\n",
    "armor_frames = test_detector.car_2_armor(test_frame, car_boxes)\n",
    "\n",
    "armors_boxes = test_detector.armors_detect(armor_frames)\n",
    "\n",
    "test_detector.draw(test_frame, car_boxes, armors_boxes)\n",
    "\n",
    "cv2.imshow(\"car_detect\", test_frame)\n",
    "cv2.waitKey(0)"
   ]
  }
 ],
 "metadata": {
  "language_info": {
   "name": "python"
  }
 },
 "nbformat": 4,
 "nbformat_minor": 2
}
