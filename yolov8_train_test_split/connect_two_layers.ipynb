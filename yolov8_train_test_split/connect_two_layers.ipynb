{
 "cells": [
  {
   "cell_type": "code",
   "execution_count": null,
   "metadata": {},
   "outputs": [],
   "source": [
    "import cv2\n",
    "from ultralytics import YOLO"
   ]
  },
  {
   "cell_type": "code",
   "execution_count": null,
   "metadata": {},
   "outputs": [],
   "source": [
    "class YoloDetector:\n",
    "    def __init__(self, car_model_path, armor_model_path):\n",
    "        self.car_model = YOLO(car_model_path)\n",
    "        self.armor_model = YOLO(armor_model_path)\n",
    "\n",
    "    def car_detect(self, frame):\n",
    "        results = self.car_model(frame)\n",
    "        print(\"result_num: \", len(results))\n",
    "        # print(len(results[0]))\n",
    "        for result in results:\n",
    "            print(\"boxes_num: \", len(result.boxes))\n",
    "            boxes = result.boxes\n",
    "            for box, cls, conf in zip(boxes.xywh, boxes.cls, boxes.conf): # YOLO gives the size of boxes, the type of the object the confidence and the ID\n",
    "                print(cls)\n",
    "                x, y, w, h = map(int, box)\n",
    "\n",
    "    def armor_detect(self, car_frame):\n",
    "        results = self.car_model(car_frame)\n",
    "        print(\"result_num: \", len(results))\n",
    "        for result in results:\n",
    "            print(\"boxes_num: \", len(result.boxes))\n",
    "            boxes = result.boxes\n",
    "            for box, cls, conf in zip(boxes.xywh, boxes.cls, boxes.conf): # YOLO gives the size of boxes, the type of the object the confidence and the ID\n",
    "                x, y, w, h = map(int, box)\n",
    "                print(cls)\n",
    "\n",
    "    # def car_2_armor(self, car_frame):\n",
    "    #     armor_frame = cv2.resize(car_frame, (320, 320))\n",
    "    #     return armor_frame\n",
    "\n"
   ]
  },
  {
   "cell_type": "code",
   "execution_count": null,
   "metadata": {},
   "outputs": [],
   "source": [
    "test_detector = YoloDetector(\"./car_best.pt\", \"./armor_best.pt\")\n",
    "test_frame = cv2.imread(\"./test_frame.jpg\")\n",
    "test_detector.car_detect(test_frame)"
   ]
  }
 ],
 "metadata": {
  "language_info": {
   "name": "python"
  }
 },
 "nbformat": 4,
 "nbformat_minor": 2
}
