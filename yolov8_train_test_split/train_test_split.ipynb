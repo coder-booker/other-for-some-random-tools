{
 "cells": [
  {
   "cell_type": "code",
   "execution_count": 1,
   "metadata": {},
   "outputs": [],
   "source": [
    "import os\n",
    "import shutil\n",
    "import numpy as np"
   ]
  },
  {
   "cell_type": "code",
   "execution_count": 2,
   "metadata": {},
   "outputs": [],
   "source": [
    "def split_data_set(src_dir, dst_dir, ratio):\n",
    "    # 获取所有的文件名\n",
    "    file_names = [f[:-4] for f in os.listdir(os.path.join(src_dir, 'images')) if f.endswith('.jpg')]\n",
    "\n",
    "    # 计算测试集的数量\n",
    "    test_num = int(len(file_names) * ratio)\n",
    "\n",
    "    # 随机抽取测试集\n",
    "    test_set = np.random.choice(file_names, test_num, replace=False)\n",
    "    train_set = list(set(file_names) - set(test_set))\n",
    "\n",
    "    # 创建目标目录\n",
    "    os.makedirs(os.path.join(dst_dir, 'test', 'images'), exist_ok=True)\n",
    "    os.makedirs(os.path.join(dst_dir, 'test', 'labels'), exist_ok=True)\n",
    "    os.makedirs(os.path.join(dst_dir, 'train', 'images'), exist_ok=True)\n",
    "    os.makedirs(os.path.join(dst_dir, 'train', 'labels'), exist_ok=True)\n",
    "\n",
    "    # 复制文件\n",
    "    for name in test_set:\n",
    "        shutil.copy(os.path.join(src_dir, 'images', name + '.jpg'), os.path.join(dst_dir, 'test', 'images', name + '.jpg'))\n",
    "        shutil.copy(os.path.join(src_dir, 'labels', name + '.txt'), os.path.join(dst_dir, 'test', 'labels', name + '.txt'))\n",
    "\n",
    "    for name in train_set:\n",
    "        shutil.copy(os.path.join(src_dir, 'images', name + '.jpg'), os.path.join(dst_dir, 'train', 'images', name + '.jpg'))\n",
    "        shutil.copy(os.path.join(src_dir, 'labels', name + '.txt'), os.path.join(dst_dir, 'train', 'labels', name + '.txt'))\n"
   ]
  },
  {
   "cell_type": "code",
   "execution_count": 4,
   "metadata": {},
   "outputs": [],
   "source": [
    "abs_src = r'D:\\learning\\github_clone_repo\\other-for-some-random-tools\\yolov8_train_test_split\\car_dataset'\n",
    "abs_dst = r'D:\\learning\\github_clone_repo\\other-for-some-random-tools\\yolov8_train_test_split\\car_dataset_processed'\n",
    "test_set_ratio = 0.2\n",
    "split_data_set(abs_src, abs_dst, test_set_ratio)"
   ]
  }
 ],
 "metadata": {
  "kernelspec": {
   "display_name": "Python 3",
   "language": "python",
   "name": "python3"
  },
  "language_info": {
   "codemirror_mode": {
    "name": "ipython",
    "version": 3
   },
   "file_extension": ".py",
   "mimetype": "text/x-python",
   "name": "python",
   "nbconvert_exporter": "python",
   "pygments_lexer": "ipython3",
   "version": "3.8.0"
  }
 },
 "nbformat": 4,
 "nbformat_minor": 2
}
